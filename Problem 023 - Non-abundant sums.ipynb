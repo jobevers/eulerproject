{
 "metadata": {
  "name": "",
  "signature": "sha256:014dfc58d68e3dff7452e541011cddc3d9bec7cb17e3474618fba1c06556fe65"
 },
 "nbformat": 3,
 "nbformat_minor": 0,
 "worksheets": [
  {
   "cells": [
    {
     "cell_type": "markdown",
     "metadata": {},
     "source": [
      " A perfect number is a number for which the sum of its proper divisors is\n",
      "exactly equal to the number. For example, the sum of the proper divisors\n",
      "of 28 would be 1 + 2 + 4 + 7 + 14 = 28, which means that 28 is a perfect\n",
      "number.\n",
      "\n",
      "A number n is called deficient if the sum of its proper divisors is less\n",
      "than n and it is called abundant if this sum exceeds n.\n",
      "\n",
      "As 12 is the smallest abundant number, 1 + 2 + 3 + 4 + 6 = 16, the\n",
      "smallest number that can be written as the sum of two abundant numbers is 24.\n",
      "By mathematical analysis, it can be shown that all integers greater\n",
      "than 28123 can be written as the sum of two abundant numbers. However,\n",
      "this upper limit cannot be reduced any further by analysis even though it\n",
      "is known that the greatest number that cannot be expressed as the sum of\n",
      "two abundant numbers is less than this limit.\n",
      "\n",
      "Find the sum of all the positive integers which cannot be written as the\n",
      "sum of two abundant numbers."
     ]
    },
    {
     "cell_type": "code",
     "collapsed": false,
     "input": [
      "import tools\n",
      "reload(tools)"
     ],
     "language": "python",
     "metadata": {},
     "outputs": [
      {
       "metadata": {},
       "output_type": "pyout",
       "prompt_number": 96,
       "text": [
        "<module 'tools' from 'tools.py'>"
       ]
      }
     ],
     "prompt_number": 96
    },
    {
     "cell_type": "code",
     "collapsed": false,
     "input": [
      "import itertools"
     ],
     "language": "python",
     "metadata": {},
     "outputs": [],
     "prompt_number": 97
    },
    {
     "cell_type": "code",
     "collapsed": false,
     "input": [
      "import primes\n",
      "reload(primes)"
     ],
     "language": "python",
     "metadata": {},
     "outputs": [
      {
       "metadata": {},
       "output_type": "pyout",
       "prompt_number": 98,
       "text": [
        "<module 'primes' from 'primes.pyc'>"
       ]
      }
     ],
     "prompt_number": 98
    },
    {
     "cell_type": "code",
     "collapsed": false,
     "input": [
      "def isAbundant(n):\n",
      "    s = sum(tools.divisors2(n))\n",
      "    return n < s"
     ],
     "language": "python",
     "metadata": {},
     "outputs": [],
     "prompt_number": 99
    },
    {
     "cell_type": "code",
     "collapsed": false,
     "input": [
      "abundant = []\n",
      "sums_of_two_abundant_numbers = set()\n",
      "for n in range(12, 28123):\n",
      "    if isAbundant(n):\n",
      "        sums_of_two_abundant_numbers.add(n + n)\n",
      "        for i in abundant:\n",
      "            sums_of_two_abundant_numbers.add(n + i)\n",
      "        abundant.append(n)"
     ],
     "language": "python",
     "metadata": {},
     "outputs": [],
     "prompt_number": 108
    },
    {
     "cell_type": "code",
     "collapsed": false,
     "input": [
      "all_numbers = set(range(1, 28123))"
     ],
     "language": "python",
     "metadata": {},
     "outputs": [],
     "prompt_number": 110
    },
    {
     "cell_type": "code",
     "collapsed": false,
     "input": [
      "sum(all_numbers - sums_of_two_abundant_numbers)"
     ],
     "language": "python",
     "metadata": {},
     "outputs": [
      {
       "metadata": {},
       "output_type": "pyout",
       "prompt_number": 112,
       "text": [
        "4179871"
       ]
      }
     ],
     "prompt_number": 112
    },
    {
     "cell_type": "code",
     "collapsed": false,
     "input": [],
     "language": "python",
     "metadata": {},
     "outputs": []
    }
   ],
   "metadata": {}
  }
 ]
}