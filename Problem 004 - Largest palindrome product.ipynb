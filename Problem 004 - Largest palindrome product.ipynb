{
 "metadata": {
  "name": "",
  "signature": "sha256:5d68c46fda1214ab1ecf6ae73c85e777ab1c328bd3330ad71bbae03316465f33"
 },
 "nbformat": 3,
 "nbformat_minor": 0,
 "worksheets": [
  {
   "cells": [
    {
     "cell_type": "markdown",
     "metadata": {},
     "source": [
      "A palindromic number reads the same both ways. The largest palindrome made from the product of two 2-digit numbers is 9009 = 91 \u00d7 99.\n",
      "\n",
      "Find the largest palindrome made from the product of two 3-digit numbers."
     ]
    },
    {
     "cell_type": "code",
     "collapsed": false,
     "input": [
      "def isPalidrome(number):\n",
      "    s = str(number)\n",
      "    return ''.join(reversed(s)) == s"
     ],
     "language": "python",
     "metadata": {},
     "outputs": [],
     "prompt_number": 1
    },
    {
     "cell_type": "markdown",
     "metadata": {},
     "source": [
      "The idea is to work backwards through all of the products of 3 digit numbers, until we find the first one that is a palidrome"
     ]
    },
    {
     "cell_type": "code",
     "collapsed": false,
     "input": [
      "a = 999\n",
      "b = 999\n",
      "previous_product = a * b\n",
      "while True:\n",
      "    if a == 1 and b == 1:\n",
      "        print 'Nothing found'\n",
      "        break\n",
      "    product = a * b\n",
      "    assert product <= previous_product\n",
      "    if isPalidrome(product):\n",
      "        print product\n",
      "        break\n",
      "    if a < b:\n",
      "        b = b - 1\n",
      "    else:\n",
      "        a = a - 1\n",
      "    previous_product = product"
     ],
     "language": "python",
     "metadata": {},
     "outputs": [
      {
       "output_type": "stream",
       "stream": "stdout",
       "text": [
        "698896\n"
       ]
      }
     ],
     "prompt_number": 2
    },
    {
     "cell_type": "code",
     "collapsed": false,
     "input": [],
     "language": "python",
     "metadata": {},
     "outputs": []
    }
   ],
   "metadata": {}
  }
 ]
}