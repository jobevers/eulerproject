{
 "metadata": {
  "name": "",
  "signature": "sha256:2b4a49ad65c918a1f2a98f2c0f56baaac5fa53d81beb1113fe1de2108f87f24e"
 },
 "nbformat": 3,
 "nbformat_minor": 0,
 "worksheets": [
  {
   "cells": [
    {
     "cell_type": "markdown",
     "metadata": {},
     "source": [
      "Euler discovered the remarkable quadratic formula:\n",
      "\n",
      "n\u00b2 + n + 41\n",
      "\n",
      "It turns out that the formula will produce 40 primes for the consecutive values n = 0 to 39. However, when n = 40, 402 + 40 + 41 = 40(40 + 1) + 41 is divisible by 41, and certainly when n = 41, 41\u00b2 + 41 + 41 is clearly divisible by 41.\n",
      "\n",
      "The incredible formula  n\u00b2 \u2212 79n + 1601 was discovered, which produces 80 primes for the consecutive values n = 0 to 79. The product of the coefficients, \u221279 and 1601, is \u2212126479.\n",
      "\n",
      "Considering quadratics of the form:\n",
      "\n",
      "n\u00b2 + an + b, where |a| < 1000 and |b| < 1000\n",
      "\n",
      "where |n| is the modulus/absolute value of n\n",
      "e.g. |11| = 11 and |\u22124| = 4\n",
      "Find the product of the coefficients, a and b, for the quadratic expression that produces the maximum number of primes for consecutive values of n, starting with n = 0."
     ]
    },
    {
     "cell_type": "code",
     "collapsed": false,
     "input": [
      "import itertools\n",
      "\n",
      "import primes"
     ],
     "language": "python",
     "metadata": {},
     "outputs": [],
     "prompt_number": 6
    },
    {
     "cell_type": "code",
     "collapsed": false,
     "input": [
      "sieve = primes.SieveOfEratosthenes()"
     ],
     "language": "python",
     "metadata": {},
     "outputs": [],
     "prompt_number": 2
    },
    {
     "cell_type": "code",
     "collapsed": false,
     "input": [
      "class PrimeCheck(object):\n",
      "    def __init__(self, sieve):\n",
      "        self.sieve = sieve\n",
      "        self.primes = set(sieve.CACHE)\n",
      "        self.current = max(self.primes)\n",
      "        \n",
      "    def isPrime(self, n):\n",
      "        while self.current < n:\n",
      "            self.current = self.sieve.next()\n",
      "            self.primes.add(self.current)\n",
      "        return n in self.primes"
     ],
     "language": "python",
     "metadata": {},
     "outputs": [],
     "prompt_number": 7
    },
    {
     "cell_type": "code",
     "collapsed": false,
     "input": [
      "prime_check = PrimeCheck(sieve)"
     ],
     "language": "python",
     "metadata": {},
     "outputs": [],
     "prompt_number": 8
    },
    {
     "cell_type": "code",
     "collapsed": false,
     "input": [
      "def makeQuadratic(a, b):\n",
      "    def quadratic(n):\n",
      "        return n*n + a*n + b\n",
      "    return quadratic"
     ],
     "language": "python",
     "metadata": {},
     "outputs": [],
     "prompt_number": 5
    },
    {
     "cell_type": "code",
     "collapsed": false,
     "input": [
      "def consecutivePrimes(a, b):\n",
      "    quadratic = makeQuadratic(a, b)\n",
      "    for n in itertools.count(0, 1):\n",
      "        value = quadratic(n)\n",
      "        if not prime_check.isPrime(value):\n",
      "            break\n",
      "    return n"
     ],
     "language": "python",
     "metadata": {},
     "outputs": [],
     "prompt_number": 12
    },
    {
     "cell_type": "code",
     "collapsed": false,
     "input": [
      "assert consecutivePrimes(1, 41) == 40"
     ],
     "language": "python",
     "metadata": {},
     "outputs": [],
     "prompt_number": 14
    },
    {
     "cell_type": "code",
     "collapsed": false,
     "input": [
      "assert consecutivePrimes(-79, 1601) == 80"
     ],
     "language": "python",
     "metadata": {},
     "outputs": [],
     "prompt_number": 15
    },
    {
     "cell_type": "code",
     "collapsed": false,
     "input": [
      "max_n = 0\n",
      "max_ab = None\n",
      "for a in range(-999, 1000):\n",
      "    for b in range(-999, 1000):\n",
      "        n = consecutivePrimes(a, b)\n",
      "        if n > max_n:\n",
      "            max_n = n\n",
      "            max_ab = (a, b)\n",
      "max_n, max_ab"
     ],
     "language": "python",
     "metadata": {},
     "outputs": [
      {
       "metadata": {},
       "output_type": "pyout",
       "prompt_number": 16,
       "text": [
        "(71, (-61, 971))"
       ]
      }
     ],
     "prompt_number": 16
    },
    {
     "cell_type": "code",
     "collapsed": false,
     "input": [
      "max_ab[0] * max_ab[1]"
     ],
     "language": "python",
     "metadata": {},
     "outputs": [
      {
       "metadata": {},
       "output_type": "pyout",
       "prompt_number": 17,
       "text": [
        "-59231"
       ]
      }
     ],
     "prompt_number": 17
    },
    {
     "cell_type": "code",
     "collapsed": false,
     "input": [],
     "language": "python",
     "metadata": {},
     "outputs": []
    }
   ],
   "metadata": {}
  }
 ]
}