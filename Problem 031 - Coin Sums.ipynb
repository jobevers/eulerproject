{
 "metadata": {
  "name": "",
  "signature": "sha256:3d68adaa18ec9b45f0fc033943876627a12b316d3d38645ae2810e4a7e6e8148"
 },
 "nbformat": 3,
 "nbformat_minor": 0,
 "worksheets": [
  {
   "cells": [
    {
     "cell_type": "markdown",
     "metadata": {},
     "source": [
      "In England the currency is made up of pound, \u00a3, and pence, p, and there are eight coins in general circulation:\n",
      "\n",
      "1p, 2p, 5p, 10p, 20p, 50p, \u00a31 (100p) and \u00a32 (200p).  \n",
      "It is possible to make \u00a32 in the following way:\n",
      "\n",
      "1\u00d7\u00a31 + 1\u00d750p + 2\u00d720p + 1\u00d75p + 1\u00d72p + 3\u00d71p  \n",
      "How many different ways can \u00a32 be made using any number of coins?"
     ]
    },
    {
     "cell_type": "code",
     "collapsed": false,
     "input": [
      "import itertools\n",
      "import numpy as np"
     ],
     "language": "python",
     "metadata": {},
     "outputs": [],
     "prompt_number": 22
    },
    {
     "cell_type": "code",
     "collapsed": false,
     "input": [
      "COINS = [1, 2, 5, 10, 20, 50, 100, 200]"
     ],
     "language": "python",
     "metadata": {},
     "outputs": [],
     "prompt_number": 45
    },
    {
     "cell_type": "code",
     "collapsed": false,
     "input": [
      "class Coins(object):\n",
      "    def __init__(self, counts):\n",
      "        assert len(counts) == len(COINS)\n",
      "        self.counts = counts\n",
      "        \n",
      "    def value(self):\n",
      "        return sum(a*b for a,b in zip(self.counts, COINS))\n",
      "    \n",
      "    def __hash__(self):\n",
      "        return hash(tuple(self.counts))\n",
      "    \n",
      "    def __eq__(self, a):\n",
      "        return (a.counts == self.counts).all()\n",
      "    \n",
      "    def __add__(self, coin):\n",
      "        return Coins(self.counts + coin.counts)\n",
      "    \n",
      "    def __mul__(self, n):\n",
      "        return Coins(n * self.counts)\n",
      "    \n",
      "    def __rmul__(self, n):\n",
      "        return self.__mul__(n)\n",
      "    \n",
      "    def __repr__(self):\n",
      "        return self.__str__()\n",
      "    \n",
      "    def __str__(self):\n",
      "        return '%s - %s' % (self.value(), self.counts)"
     ],
     "language": "python",
     "metadata": {},
     "outputs": [],
     "prompt_number": 116
    },
    {
     "cell_type": "code",
     "collapsed": false,
     "input": [
      "class Value(object):\n",
      "    def __init__(self, value, coins):\n",
      "        for c in coins:\n",
      "            assert value == c.value()\n",
      "        self.value = value\n",
      "        self.coins = coins\n",
      "        \n",
      "    def __add__(self, value):\n",
      "        new_value = value.value+self.value\n",
      "        all_coins = [a + b for a,b in itertools.product(self.coins, value.coins)]\n",
      "        all_coins = set(c for c in all_coins)\n",
      "        return Value(new_value, list(all_coins))\n",
      "    \n",
      "    def __mul__(self, n):\n",
      "        v = self\n",
      "        for _ in range(n-1):\n",
      "            v = self.__add__(v)\n",
      "        return v\n",
      "    \n",
      "    def __rmul__(self, n):\n",
      "        return self.__mul__(n)"
     ],
     "language": "python",
     "metadata": {},
     "outputs": [],
     "prompt_number": 153
    },
    {
     "cell_type": "code",
     "collapsed": false,
     "input": [
      "def sortCoins(v):\n",
      "    return sorted(v.coins, key=lambda a: tuple(reversed(a.counts)))"
     ],
     "language": "python",
     "metadata": {},
     "outputs": [],
     "prompt_number": 191
    },
    {
     "cell_type": "code",
     "collapsed": false,
     "input": [
      "Coins(np.array([1, 0, 0, 0, 0, 0, 0, 0]))  == Coins(np.array([1, 0, 0, 0, 0, 0, 0, 0]))"
     ],
     "language": "python",
     "metadata": {},
     "outputs": [
      {
       "metadata": {},
       "output_type": "pyout",
       "prompt_number": 154,
       "text": [
        "True"
       ]
      }
     ],
     "prompt_number": 154
    },
    {
     "cell_type": "code",
     "collapsed": false,
     "input": [
      "c1   = Coins(np.array([1, 0, 0, 0, 0, 0, 0, 0]))\n",
      "c2   = Coins(np.array([0, 1, 0, 0, 0, 0, 0, 0]))\n",
      "c5   = Coins(np.array([0, 0, 1, 0, 0, 0, 0, 0]))\n",
      "c10  = Coins(np.array([0, 0, 0, 1, 0, 0, 0, 0]))\n",
      "c20  = Coins(np.array([0, 0, 0, 0, 1, 0, 0, 0]))\n",
      "c50  = Coins(np.array([0, 0, 0, 0, 0, 1, 0, 0]))\n",
      "c100 = Coins(np.array([0, 0, 0, 0, 0, 0, 1, 0]))\n",
      "c200 = Coins(np.array([0, 0, 0, 0, 0, 0, 0, 1]))\n",
      "v1 = Value(1, [c1])\n",
      "v2 = Value(2, [c2] + (2*v1).coins)"
     ],
     "language": "python",
     "metadata": {},
     "outputs": [],
     "prompt_number": 155
    },
    {
     "cell_type": "code",
     "collapsed": false,
     "input": [
      "v2.coins"
     ],
     "language": "python",
     "metadata": {},
     "outputs": [
      {
       "metadata": {},
       "output_type": "pyout",
       "prompt_number": 156,
       "text": [
        "[2 - [0 1 0 0 0 0 0 0], 2 - [2 0 0 0 0 0 0 0]]"
       ]
      }
     ],
     "prompt_number": 156
    },
    {
     "cell_type": "code",
     "collapsed": false,
     "input": [
      "v5 = Value(5, [c5] + (2*v2+v1).coins)"
     ],
     "language": "python",
     "metadata": {},
     "outputs": [],
     "prompt_number": 157
    },
    {
     "cell_type": "code",
     "collapsed": false,
     "input": [
      "sortCoins(v5)"
     ],
     "language": "python",
     "metadata": {},
     "outputs": [
      {
       "metadata": {},
       "output_type": "pyout",
       "prompt_number": 193,
       "text": [
        "[5 - [5 0 0 0 0 0 0 0],\n",
        " 5 - [3 1 0 0 0 0 0 0],\n",
        " 5 - [1 2 0 0 0 0 0 0],\n",
        " 5 - [0 0 1 0 0 0 0 0]]"
       ]
      }
     ],
     "prompt_number": 193
    },
    {
     "cell_type": "code",
     "collapsed": false,
     "input": [
      "v10 = Value(10, [c10] + (2*v5).coins + (5*v2).coins)"
     ],
     "language": "python",
     "metadata": {},
     "outputs": [],
     "prompt_number": 194
    },
    {
     "cell_type": "code",
     "collapsed": false,
     "input": [
      "sortCoins(v10)"
     ],
     "language": "python",
     "metadata": {},
     "outputs": [
      {
       "metadata": {},
       "output_type": "pyout",
       "prompt_number": 195,
       "text": [
        "[10 - [10  0  0  0  0  0  0  0],\n",
        " 10 - [10  0  0  0  0  0  0  0],\n",
        " 10 - [8 1 0 0 0 0 0 0],\n",
        " 10 - [8 1 0 0 0 0 0 0],\n",
        " 10 - [6 2 0 0 0 0 0 0],\n",
        " 10 - [6 2 0 0 0 0 0 0],\n",
        " 10 - [4 3 0 0 0 0 0 0],\n",
        " 10 - [4 3 0 0 0 0 0 0],\n",
        " 10 - [2 4 0 0 0 0 0 0],\n",
        " 10 - [2 4 0 0 0 0 0 0],\n",
        " 10 - [0 5 0 0 0 0 0 0],\n",
        " 10 - [5 0 1 0 0 0 0 0],\n",
        " 10 - [3 1 1 0 0 0 0 0],\n",
        " 10 - [1 2 1 0 0 0 0 0],\n",
        " 10 - [0 0 2 0 0 0 0 0],\n",
        " 10 - [0 0 0 1 0 0 0 0]]"
       ]
      }
     ],
     "prompt_number": 195
    },
    {
     "cell_type": "code",
     "collapsed": false,
     "input": [
      "v20 = Value(20, [c20] + (2*v10).coins)"
     ],
     "language": "python",
     "metadata": {},
     "outputs": [],
     "prompt_number": 160
    },
    {
     "cell_type": "code",
     "collapsed": false,
     "input": [
      "v50 = Value(50, [c50] + (2*v20+v10).coins)"
     ],
     "language": "python",
     "metadata": {},
     "outputs": [],
     "prompt_number": 161
    },
    {
     "cell_type": "code",
     "collapsed": false,
     "input": [
      "v100 = Value(100, [c100] + (2*v50).coins)"
     ],
     "language": "python",
     "metadata": {},
     "outputs": [],
     "prompt_number": 164
    },
    {
     "cell_type": "code",
     "collapsed": false,
     "input": [
      "import datetime\n",
      "start = datetime.datetime.now()\n",
      "v200 = Value(200, [c200] + (2*v100).coins)\n",
      "end = datetime.datetime.now()\n",
      "end - start"
     ],
     "language": "python",
     "metadata": {},
     "outputs": [
      {
       "metadata": {},
       "output_type": "pyout",
       "prompt_number": 168,
       "text": [
        "datetime.timedelta(0, 217, 723735)"
       ]
      }
     ],
     "prompt_number": 168
    },
    {
     "cell_type": "code",
     "collapsed": false,
     "input": [
      "(end - start).total_seconds() / 60"
     ],
     "language": "python",
     "metadata": {},
     "outputs": [
      {
       "metadata": {},
       "output_type": "pyout",
       "prompt_number": 169,
       "text": [
        "3.6287289166666667"
       ]
      }
     ],
     "prompt_number": 169
    },
    {
     "cell_type": "code",
     "collapsed": false,
     "input": [
      "len(v200.coins)"
     ],
     "language": "python",
     "metadata": {},
     "outputs": [
      {
       "metadata": {},
       "output_type": "pyout",
       "prompt_number": 170,
       "text": [
        "60149"
       ]
      }
     ],
     "prompt_number": 170
    },
    {
     "cell_type": "code",
     "collapsed": false,
     "input": [
      "v200.coins[:10]"
     ],
     "language": "python",
     "metadata": {},
     "outputs": [
      {
       "metadata": {},
       "output_type": "pyout",
       "prompt_number": 171,
       "text": [
        "[200 - [0 0 0 0 0 0 0 1],\n",
        " 200 - [27  4  9  2  5  0  0  0],\n",
        " 200 - [17  9 15  3  3  0  0  0],\n",
        " 200 - [93 11  1  6  1  0  0  0],\n",
        " 200 - [ 4  8 12 12  0  0  0  0],\n",
        " 200 - [57 14  1  0  3  1  0  0],\n",
        " 200 - [69  8  3  0  0  2  0  0],\n",
        " 200 - [19 18  1  2  1  0  1  0],\n",
        " 200 - [26 22  4  2  2  1  0  0],\n",
        " 200 - [82 24 14  0  0  0  0  0]]"
       ]
      }
     ],
     "prompt_number": 171
    },
    {
     "cell_type": "code",
     "collapsed": false,
     "input": [
      "s = sorted(v200.coins, reverse=True, key=lambda a: tuple(reversed(a.counts)))"
     ],
     "language": "python",
     "metadata": {},
     "outputs": [],
     "prompt_number": 182
    },
    {
     "cell_type": "code",
     "collapsed": false,
     "input": [
      "[c for c in v100.coins if c.counts[0] == 38 and c.counts[1] == (200 - 38)]"
     ],
     "language": "python",
     "metadata": {},
     "outputs": [
      {
       "metadata": {},
       "output_type": "pyout",
       "prompt_number": 188,
       "text": [
        "[]"
       ]
      }
     ],
     "prompt_number": 188
    },
    {
     "cell_type": "code",
     "collapsed": false,
     "input": [],
     "language": "python",
     "metadata": {},
     "outputs": []
    }
   ],
   "metadata": {}
  }
 ]
}