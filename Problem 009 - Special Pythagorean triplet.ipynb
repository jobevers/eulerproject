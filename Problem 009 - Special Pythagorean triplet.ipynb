{
 "metadata": {
  "name": "",
  "signature": "sha256:f424e660c8d944e4bff283feff2fbb925e6b7ee6b83f53f4d78063843f71a513"
 },
 "nbformat": 3,
 "nbformat_minor": 0,
 "worksheets": [
  {
   "cells": [
    {
     "cell_type": "markdown",
     "metadata": {},
     "source": [
      "A Pythagorean triplet is a set of three natural numbers, a < b < c, for which,\n",
      "\n",
      "$a^2 + b^2 = c^2$  \n",
      "For example, $3^2 + 4^2 = 9 + 16 = 25 = 5^2$.\n",
      "\n",
      "There exists exactly one Pythagorean triplet for which a + b + c = 1000.\n",
      "Find the product abc."
     ]
    },
    {
     "cell_type": "code",
     "collapsed": false,
     "input": [
      "def isTriple(a, b, c):\n",
      "    return a**2 + b**2 == c**2"
     ],
     "language": "python",
     "metadata": {},
     "outputs": [],
     "prompt_number": 1
    },
    {
     "cell_type": "code",
     "collapsed": false,
     "input": [
      "for a in range(1, 999):\n",
      "    found = False\n",
      "    for b in range(1, 999-a):\n",
      "        c = (1000 - a - b)\n",
      "        if isTriple(a, b, c):\n",
      "            print a, b, c, a*b*c\n",
      "            found = True\n",
      "            break\n",
      "    if found:\n",
      "        break"
     ],
     "language": "python",
     "metadata": {},
     "outputs": [
      {
       "output_type": "stream",
       "stream": "stdout",
       "text": [
        "200 375 425 31875000\n"
       ]
      }
     ],
     "prompt_number": 5
    },
    {
     "cell_type": "code",
     "collapsed": false,
     "input": [],
     "language": "python",
     "metadata": {},
     "outputs": []
    }
   ],
   "metadata": {}
  }
 ]
}