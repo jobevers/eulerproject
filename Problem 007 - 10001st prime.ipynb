{
 "metadata": {
  "name": "",
  "signature": "sha256:a4fe1b3dd7738b18bbb1536a8135f3430ff9d41512d9ca566303ca73738fd51c"
 },
 "nbformat": 3,
 "nbformat_minor": 0,
 "worksheets": [
  {
   "cells": [
    {
     "cell_type": "markdown",
     "metadata": {},
     "source": [
      "By listing the first six prime numbers: 2, 3, 5, 7, 11, and 13, we can see that the 6th prime is 13.\n",
      "\n",
      "What is the 10 001st prime number?"
     ]
    },
    {
     "cell_type": "code",
     "collapsed": false,
     "input": [
      "import primes"
     ],
     "language": "python",
     "metadata": {},
     "outputs": [],
     "prompt_number": 1
    },
    {
     "cell_type": "code",
     "collapsed": false,
     "input": [
      "sieve = primes.SieveOfEratosthenes()"
     ],
     "language": "python",
     "metadata": {},
     "outputs": [],
     "prompt_number": 11
    },
    {
     "cell_type": "code",
     "collapsed": false,
     "input": [
      "for i, p in enumerate(sieve, 1):\n",
      "    if i == 10001:\n",
      "        print p\n",
      "        break"
     ],
     "language": "python",
     "metadata": {},
     "outputs": [
      {
       "output_type": "stream",
       "stream": "stdout",
       "text": [
        "104729\n"
       ]
      }
     ],
     "prompt_number": 12
    },
    {
     "cell_type": "code",
     "collapsed": false,
     "input": [],
     "language": "python",
     "metadata": {},
     "outputs": []
    }
   ],
   "metadata": {}
  }
 ]
}