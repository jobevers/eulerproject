{
 "metadata": {
  "name": "",
  "signature": "sha256:8aca0764694898ab846f99527c451f07934280d42efdf9a338943d189ea1d5fc"
 },
 "nbformat": 3,
 "nbformat_minor": 0,
 "worksheets": [
  {
   "cells": [
    {
     "cell_type": "code",
     "collapsed": false,
     "input": [
      "import itertools"
     ],
     "language": "python",
     "metadata": {},
     "outputs": [],
     "prompt_number": 1
    },
    {
     "cell_type": "code",
     "collapsed": false,
     "input": [
      "def getMultiplesOfX(x):\n",
      "    now = x\n",
      "    while True:\n",
      "        yield now\n",
      "        now += x"
     ],
     "language": "python",
     "metadata": {},
     "outputs": [],
     "prompt_number": 2
    },
    {
     "cell_type": "code",
     "collapsed": false,
     "input": [
      "multiples_of_3 = itertools.takewhile(lambda x: x<1000, getMultiplesOfX(3))\n",
      "multiples_of_5 = itertools.takewhile(lambda x: x<1000, getMultiplesOfX(3))"
     ],
     "language": "python",
     "metadata": {},
     "outputs": [],
     "prompt_number": 3
    },
    {
     "cell_type": "code",
     "collapsed": false,
     "input": [
      "sum(set(itertools.chain(multiples_of_3, multiples_of_5)))"
     ],
     "language": "python",
     "metadata": {},
     "outputs": [
      {
       "metadata": {},
       "output_type": "pyout",
       "prompt_number": 4,
       "text": [
        "166833"
       ]
      }
     ],
     "prompt_number": 4
    },
    {
     "cell_type": "code",
     "collapsed": false,
     "input": [],
     "language": "python",
     "metadata": {},
     "outputs": []
    }
   ],
   "metadata": {}
  }
 ]
}