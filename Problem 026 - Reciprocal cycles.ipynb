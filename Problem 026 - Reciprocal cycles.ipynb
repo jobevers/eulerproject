{
 "metadata": {
  "name": "",
  "signature": "sha256:6195ebabae012599872392822cedd25ff245b7e7d79089cf51766d13be28c487"
 },
 "nbformat": 3,
 "nbformat_minor": 0,
 "worksheets": [
  {
   "cells": [
    {
     "cell_type": "markdown",
     "metadata": {},
     "source": [
      "A unit fraction contains 1 in the numerator. The decimal representation of the unit fractions with denominators 2 to 10 are given:\n",
      "\n",
      "```\n",
      "1/2\t= \t0.5\n",
      "1/3\t= \t0.(3)\n",
      "1/4\t= \t0.25\n",
      "1/5\t= \t0.2\n",
      "1/6\t= \t0.1(6)\n",
      "1/7\t= \t0.(142857)\n",
      "1/8\t= \t0.125\n",
      "1/9\t= \t0.(1)\n",
      "1/10\t= \t0.1\n",
      "```\n",
      "Where 0.1(6) means 0.166666..., and has a 1-digit recurring cycle. It can be seen that 1/7 has a 6-digit recurring cycle.\n",
      "\n",
      "Find the value of d < 1000 for which 1/d contains the longest recurring cycle in its decimal fraction part."
     ]
    },
    {
     "cell_type": "code",
     "collapsed": false,
     "input": [
      "from __future__ import division"
     ],
     "language": "python",
     "metadata": {},
     "outputs": [],
     "prompt_number": 1
    },
    {
     "cell_type": "code",
     "collapsed": false,
     "input": [
      "# a cycle happens when we're 'dropping down' zeros\n",
      "# and we hit a value we've seen before.\n",
      "def cycleLength(n, d):\n",
      "    digits = []\n",
      "    q, r = divmod(n, d)\n",
      "    count = 0\n",
      "    while True:\n",
      "        q, r = divmod(r*10, d)\n",
      "        if r == 0:\n",
      "            return 0, digits, (q, r)\n",
      "        for i, digit in enumerate(reversed(digits), 1):\n",
      "            if digit == (q, r):\n",
      "                return i, digits, (q, r)\n",
      "        digits.append((q, r))"
     ],
     "language": "python",
     "metadata": {},
     "outputs": [],
     "prompt_number": 2
    },
    {
     "cell_type": "code",
     "collapsed": false,
     "input": [
      "max((cycleLength(1, i), i) for i in range(1, 1000))[-1]"
     ],
     "language": "python",
     "metadata": {},
     "outputs": [
      {
       "metadata": {},
       "output_type": "pyout",
       "prompt_number": 3,
       "text": [
        "983"
       ]
      }
     ],
     "prompt_number": 3
    },
    {
     "cell_type": "code",
     "collapsed": false,
     "input": [],
     "language": "python",
     "metadata": {},
     "outputs": []
    }
   ],
   "metadata": {}
  }
 ]
}