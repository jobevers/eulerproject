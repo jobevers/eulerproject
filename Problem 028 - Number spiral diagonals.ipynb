{
 "metadata": {
  "name": "",
  "signature": "sha256:2e09e277ada426babf2ae4aea70ee8f7f57ebaecffb7779c259d4499a190c3f6"
 },
 "nbformat": 3,
 "nbformat_minor": 0,
 "worksheets": [
  {
   "cells": [
    {
     "cell_type": "markdown",
     "metadata": {},
     "source": [
      "Starting with the number 1 and moving to the right in a clockwise direction a 5 by 5 spiral is formed as follows:\n",
      "\n",
      "```\n",
      "21 22 23 24 25\n",
      "20  7  8  9 10\n",
      "19  6  1  2 11\n",
      "18  5  4  3 12\n",
      "17 16 15 14 13\n",
      "```\n",
      "\n",
      "It can be verified that the sum of the numbers on the diagonals is 101.\n",
      "\n",
      "What is the sum of the numbers on the diagonals in a 1001 by 1001 spiral formed in the same way?"
     ]
    },
    {
     "cell_type": "code",
     "collapsed": false,
     "input": [
      "import itertools"
     ],
     "language": "python",
     "metadata": {},
     "outputs": [],
     "prompt_number": 3
    },
    {
     "cell_type": "code",
     "collapsed": false,
     "input": [
      "def getNextCorner(size):\n",
      "    value = 1\n",
      "    yield value\n",
      "    last_value = size*size\n",
      "    inc = 2\n",
      "    while value < last_value:\n",
      "        for _ in range(4):\n",
      "            value += inc\n",
      "            yield value\n",
      "        inc += 2"
     ],
     "language": "python",
     "metadata": {},
     "outputs": [],
     "prompt_number": 12
    },
    {
     "cell_type": "code",
     "collapsed": false,
     "input": [
      "assert sum(getNextCorner(5)) == 101"
     ],
     "language": "python",
     "metadata": {},
     "outputs": [],
     "prompt_number": 15
    },
    {
     "cell_type": "code",
     "collapsed": false,
     "input": [
      "sum(getNextCorner(1001))"
     ],
     "language": "python",
     "metadata": {},
     "outputs": [
      {
       "metadata": {},
       "output_type": "pyout",
       "prompt_number": 16,
       "text": [
        "669171001"
       ]
      }
     ],
     "prompt_number": 16
    },
    {
     "cell_type": "code",
     "collapsed": false,
     "input": [],
     "language": "python",
     "metadata": {},
     "outputs": []
    }
   ],
   "metadata": {}
  }
 ]
}