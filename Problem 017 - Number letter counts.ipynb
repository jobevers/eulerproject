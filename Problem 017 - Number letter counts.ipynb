{
 "metadata": {
  "name": "",
  "signature": "sha256:17065971e0a91261981ed4452a4688c2e810a0c6f8c6a6bb262456f6e396e431"
 },
 "nbformat": 3,
 "nbformat_minor": 0,
 "worksheets": [
  {
   "cells": [
    {
     "cell_type": "markdown",
     "metadata": {},
     "source": [
      "If the numbers 1 to 5 are written out in words: one, two, three, four, five, then there are 3 + 3 + 5 + 4 + 4 = 19 letters used in total.\n",
      "\n",
      "If all the numbers from 1 to 1000 (one thousand) inclusive were written out in words, how many letters would be used?\n",
      "\n",
      "\n",
      "NOTE: Do not count spaces or hyphens. For example, 342 (three hundred and forty-two) contains 23 letters and 115 (one hundred and fifteen) contains 20 letters. The use of \"and\" when writing out numbers is in compliance with British usage."
     ]
    },
    {
     "cell_type": "code",
     "collapsed": false,
     "input": [
      "base = {\n",
      "    1: 'One',\n",
      "    2: 'Two',\n",
      "    3: 'Three',\n",
      "    4: 'Four',\n",
      "    5: 'Five',\n",
      "    6: 'Six',\n",
      "    7: 'Seven',\n",
      "    8: 'Eight',\n",
      "    9: 'Nine',\n",
      "}"
     ],
     "language": "python",
     "metadata": {},
     "outputs": [],
     "prompt_number": 1
    },
    {
     "cell_type": "code",
     "collapsed": false,
     "input": [
      "teens = {\n",
      "    10: 'Ten',\n",
      "    11: 'Eleven',\n",
      "    12: 'Twelve',\n",
      "    13: 'Thirteen',\n",
      "    14: 'Fourteen',\n",
      "    15: 'Fifteen',\n",
      "    16: 'Sixteen',\n",
      "    17: 'Seventeen',\n",
      "    18: 'Eighteen',\n",
      "    19: 'Nineteen'\n",
      "}"
     ],
     "language": "python",
     "metadata": {},
     "outputs": [],
     "prompt_number": 2
    },
    {
     "cell_type": "code",
     "collapsed": false,
     "input": [
      "tens = {\n",
      "    20: 'Twenty',\n",
      "    30: 'Thirty',\n",
      "    40: 'Forty',\n",
      "    50: 'Fifty',\n",
      "    60: 'Sixty',\n",
      "    70: 'Seventy',\n",
      "    80: 'Eighty',\n",
      "    90: 'Ninety'\n",
      "}"
     ],
     "language": "python",
     "metadata": {},
     "outputs": [],
     "prompt_number": 3
    },
    {
     "cell_type": "code",
     "collapsed": false,
     "input": [
      "def getWord(n):\n",
      "    if n == 1000:\n",
      "        return ['one', 'thousand']\n",
      "    q, r = divmod(n, 100)\n",
      "    assert q < 10\n",
      "    result = []\n",
      "    if q > 0:\n",
      "        result.extend([base[q], 'hundred'])\n",
      "        if r > 0:\n",
      "            result.append('and')\n",
      "    if r == 0:\n",
      "        return result\n",
      "    if r < 10:\n",
      "        result.append(base[r])\n",
      "    elif 10 <= r < 20:\n",
      "        result.append(teens[r])\n",
      "    else:\n",
      "        first_digit = r % 10\n",
      "        second_digit = r - first_digit\n",
      "        if second_digit >= 20:\n",
      "            result.append(tens[second_digit])\n",
      "            if first_digit != 0:\n",
      "                result.append(base[first_digit])\n",
      "    return result"
     ],
     "language": "python",
     "metadata": {},
     "outputs": [],
     "prompt_number": 36
    },
    {
     "cell_type": "code",
     "collapsed": false,
     "input": [
      "words = [getWord(i) for i in range(1, 1001)]  "
     ],
     "language": "python",
     "metadata": {},
     "outputs": [],
     "prompt_number": 37
    },
    {
     "cell_type": "code",
     "collapsed": false,
     "input": [
      "sum(len(''.join(getWord(i))) for i in xrange(1, 1001))"
     ],
     "language": "python",
     "metadata": {},
     "outputs": [
      {
       "metadata": {},
       "output_type": "pyout",
       "prompt_number": 38,
       "text": [
        "21124"
       ]
      }
     ],
     "prompt_number": 38
    }
   ],
   "metadata": {}
  }
 ]
}