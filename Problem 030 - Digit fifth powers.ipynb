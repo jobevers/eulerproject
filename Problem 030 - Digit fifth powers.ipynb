{
 "metadata": {
  "name": "",
  "signature": "sha256:d7ea508f268867d864cb90812600fd1874bc21425e35a0b77cc6dd2e7022805f"
 },
 "nbformat": 3,
 "nbformat_minor": 0,
 "worksheets": [
  {
   "cells": [
    {
     "cell_type": "markdown",
     "metadata": {},
     "source": [
      "Surprisingly there are only three numbers that can be written as the sum of fourth powers of their digits:\n",
      "\n",
      "$$\n",
      "1634 = 1^4 + 6^4 + 3^4 + 4^4\\\\\n",
      "8208 = 8^4 + 2^4 + 0^4 + 8^4\\\\\n",
      "9474 = 9^4 + 4^4 + 7^4 + 4^4\\\\\n",
      "$$\n",
      "\n",
      "As $1 = 1^4$ is not a sum it is not included.\n",
      "\n",
      "The sum of these numbers is 1634 + 8208 + 9474 = 19316.\n",
      "\n",
      "Find the sum of all the numbers that can be written as the sum of fifth powers of their digits."
     ]
    },
    {
     "cell_type": "code",
     "collapsed": false,
     "input": [
      "import tools\n",
      "reload(tools)"
     ],
     "language": "python",
     "metadata": {},
     "outputs": [
      {
       "metadata": {},
       "output_type": "pyout",
       "prompt_number": 3,
       "text": [
        "<module 'tools' from 'tools.py'>"
       ]
      }
     ],
     "prompt_number": 3
    },
    {
     "cell_type": "code",
     "collapsed": false,
     "input": [
      "fifth_powers = {i: i**5 for i in range(0, 10)}"
     ],
     "language": "python",
     "metadata": {},
     "outputs": [],
     "prompt_number": 5
    },
    {
     "cell_type": "code",
     "collapsed": false,
     "input": [
      "def sumOfDigitFifthPowers(n):\n",
      "    return sum(fifth_powers[d] for d in tools.digits(n))"
     ],
     "language": "python",
     "metadata": {},
     "outputs": [],
     "prompt_number": 7
    },
    {
     "cell_type": "code",
     "collapsed": false,
     "input": [
      "sumOfDigitFifthPowers(99)"
     ],
     "language": "python",
     "metadata": {},
     "outputs": [
      {
       "metadata": {},
       "output_type": "pyout",
       "prompt_number": 9,
       "text": [
        "118098"
       ]
      }
     ],
     "prompt_number": 9
    },
    {
     "cell_type": "code",
     "collapsed": false,
     "input": [
      "# find an upper bound\n",
      "n = 0\n",
      "while True:\n",
      "    n = n * 10 + 9\n",
      "    s = sumOfDigitFifthPowers(n)\n",
      "    if n > s:\n",
      "        break\n",
      "upper_bound = s"
     ],
     "language": "python",
     "metadata": {},
     "outputs": [],
     "prompt_number": 18
    },
    {
     "cell_type": "code",
     "collapsed": false,
     "input": [
      "upper_bound"
     ],
     "language": "python",
     "metadata": {},
     "outputs": [
      {
       "metadata": {},
       "output_type": "pyout",
       "prompt_number": 19,
       "text": [
        "354294"
       ]
      }
     ],
     "prompt_number": 19
    },
    {
     "cell_type": "code",
     "collapsed": false,
     "input": [
      "valid_values = []\n",
      "for n in range(10, s):\n",
      "    if sumOfDigitFifthPowers(n) == n:\n",
      "        valid_values.append(n)"
     ],
     "language": "python",
     "metadata": {},
     "outputs": [],
     "prompt_number": 20
    },
    {
     "cell_type": "code",
     "collapsed": false,
     "input": [
      "sum(valid_values)"
     ],
     "language": "python",
     "metadata": {},
     "outputs": [
      {
       "metadata": {},
       "output_type": "pyout",
       "prompt_number": 21,
       "text": [
        "443839"
       ]
      }
     ],
     "prompt_number": 21
    },
    {
     "cell_type": "code",
     "collapsed": false,
     "input": [],
     "language": "python",
     "metadata": {},
     "outputs": []
    }
   ],
   "metadata": {}
  }
 ]
}