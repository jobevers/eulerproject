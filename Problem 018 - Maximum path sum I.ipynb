{
 "metadata": {
  "name": "",
  "signature": "sha256:cf43432ed25623743fbfe405980b59ee73e7c18915c476e425cd3a1e0ff7897b"
 },
 "nbformat": 3,
 "nbformat_minor": 0,
 "worksheets": [
  {
   "cells": [
    {
     "cell_type": "markdown",
     "metadata": {},
     "source": [
      "By starting at the top of the triangle below and moving to adjacent numbers on the row below, the maximum total from top to bottom is 23.\n",
      "\n",
      "3\n",
      "7 4\n",
      "2 4 6\n",
      "8 5 9 3\n",
      "\n",
      "That is, 3 + 7 + 4 + 9 = 23.\n",
      "\n",
      "Find the maximum total from top to bottom of the triangle below:\n",
      "\n",
      "```\n",
      "75\n",
      "95 64\n",
      "17 47 82\n",
      "18 35 87 10\n",
      "20 04 82 47 65\n",
      "19 01 23 75 03 34\n",
      "88 02 77 73 07 63 67\n",
      "99 65 04 28 06 16 70 92\n",
      "41 41 26 56 83 40 80 70 33\n",
      "41 48 72 33 47 32 37 16 94 29\n",
      "53 71 44 65 25 43 91 52 97 51 14\n",
      "70 11 33 28 77 73 17 78 39 68 17 57\n",
      "91 71 52 38 17 14 91 43 58 50 27 29 48\n",
      "63 66 04 68 89 53 67 30 73 16 69 87 40 31\n",
      "04 62 98 27 23 09 70 98 73 93 38 53 60 04 23\n",
      "```\n",
      "\n",
      "NOTE: As there are only 16384 routes, it is possible to solve this problem by trying every route. However, Problem 67, is the same challenge with a triangle containing one-hundred rows; it cannot be solved by brute force, and requires a clever method! ;o)"
     ]
    },
    {
     "cell_type": "code",
     "collapsed": false,
     "input": [
      "pyramid = \"\"\"75\n",
      "95 64\n",
      "17 47 82\n",
      "18 35 87 10\n",
      "20 04 82 47 65\n",
      "19 01 23 75 03 34\n",
      "88 02 77 73 07 63 67\n",
      "99 65 04 28 06 16 70 92\n",
      "41 41 26 56 83 40 80 70 33\n",
      "41 48 72 33 47 32 37 16 94 29\n",
      "53 71 44 65 25 43 91 52 97 51 14\n",
      "70 11 33 28 77 73 17 78 39 68 17 57\n",
      "91 71 52 38 17 14 91 43 58 50 27 29 48\n",
      "63 66 04 68 89 53 67 30 73 16 69 87 40 31\n",
      "04 62 98 27 23 09 70 98 73 93 38 53 60 04 23\"\"\"\n",
      "pyramid = pyramid.split('\\n')\n",
      "pyramid = [[int(i) for i in row.split()] for row in pyramid]"
     ],
     "language": "python",
     "metadata": {},
     "outputs": [],
     "prompt_number": 14
    },
    {
     "cell_type": "markdown",
     "metadata": {},
     "source": [
      "Grow the largest sum from the bottom up"
     ]
    },
    {
     "cell_type": "code",
     "collapsed": false,
     "input": [
      "for row in reversed(range(len(pyramid) - 1)):\n",
      "    row_length = len(pyramid[row])\n",
      "    for i in range(row_length):\n",
      "        pyramid[row][i] += max(pyramid[row + 1][i], pyramid[row + 1][i + 1])"
     ],
     "language": "python",
     "metadata": {},
     "outputs": [],
     "prompt_number": 16
    },
    {
     "cell_type": "code",
     "collapsed": false,
     "input": [
      "pyramid"
     ],
     "language": "python",
     "metadata": {},
     "outputs": [
      {
       "metadata": {},
       "output_type": "pyout",
       "prompt_number": 17,
       "text": [
        "[[1074],\n",
        " [995, 999],\n",
        " [818, 900, 935],\n",
        " [704, 801, 853, 792],\n",
        " [686, 640, 766, 731, 782],\n",
        " [666, 614, 636, 684, 660, 717],\n",
        " [647, 501, 613, 609, 533, 657, 683],\n",
        " [559, 499, 479, 536, 514, 526, 594, 616],\n",
        " [460, 434, 419, 475, 508, 470, 510, 524, 487],\n",
        " [419, 365, 393, 387, 419, 425, 430, 376, 454, 322],\n",
        " [378, 317, 231, 321, 354, 372, 393, 354, 360, 293, 247],\n",
        " [325, 246, 187, 178, 256, 329, 273, 302, 263, 242, 193, 233],\n",
        " [255, 235, 154, 150, 140, 179, 256, 209, 224, 172, 174, 176, 148],\n",
        " [125, 164, 102, 95, 112, 123, 165, 128, 166, 109, 122, 147, 100, 54],\n",
        " [4, 62, 98, 27, 23, 9, 70, 98, 73, 93, 38, 53, 60, 4, 23]]"
       ]
      }
     ],
     "prompt_number": 17
    },
    {
     "cell_type": "code",
     "collapsed": false,
     "input": [
      "pyramid[0][0]"
     ],
     "language": "python",
     "metadata": {},
     "outputs": [
      {
       "metadata": {},
       "output_type": "pyout",
       "prompt_number": 18,
       "text": [
        "1074"
       ]
      }
     ],
     "prompt_number": 18
    },
    {
     "cell_type": "code",
     "collapsed": false,
     "input": [],
     "language": "python",
     "metadata": {},
     "outputs": []
    }
   ],
   "metadata": {}
  }
 ]
}