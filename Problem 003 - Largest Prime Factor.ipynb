{
 "metadata": {
  "name": "",
  "signature": "sha256:e5460cb91e36359d6750cbe20c9fe74323002eb314a4a60a6f37c0f197f61121"
 },
 "nbformat": 3,
 "nbformat_minor": 0,
 "worksheets": [
  {
   "cells": [
    {
     "cell_type": "markdown",
     "metadata": {},
     "source": [
      "The prime factors of 13195 are 5, 7, 13 and 29.\n",
      "\n",
      "What is the largest prime factor of the number 600851475143 ?"
     ]
    },
    {
     "cell_type": "code",
     "collapsed": false,
     "input": [
      "import primes"
     ],
     "language": "python",
     "metadata": {},
     "outputs": [],
     "prompt_number": 10
    },
    {
     "cell_type": "code",
     "collapsed": false,
     "input": [
      "factors = primes.findFactors(600851475143)"
     ],
     "language": "python",
     "metadata": {},
     "outputs": [],
     "prompt_number": 11
    },
    {
     "cell_type": "code",
     "collapsed": false,
     "input": [
      "max(factors)"
     ],
     "language": "python",
     "metadata": {},
     "outputs": [
      {
       "metadata": {},
       "output_type": "pyout",
       "prompt_number": 12,
       "text": [
        "6857"
       ]
      }
     ],
     "prompt_number": 12
    },
    {
     "cell_type": "code",
     "collapsed": false,
     "input": [],
     "language": "python",
     "metadata": {},
     "outputs": []
    }
   ],
   "metadata": {}
  }
 ]
}