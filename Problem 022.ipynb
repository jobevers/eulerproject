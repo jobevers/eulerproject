{
 "metadata": {
  "name": "",
  "signature": "sha256:578bb420f39f70d5ca220e9cc7ae95a9b3650f4d7985494c9b8e80455f6b46e1"
 },
 "nbformat": 3,
 "nbformat_minor": 0,
 "worksheets": [
  {
   "cells": [
    {
     "cell_type": "markdown",
     "metadata": {},
     "source": [
      "Using names.txt, a 46K text file containing over five-thousand first\n",
      "names, begin by sorting it into alphabetical order. Then working out the\n",
      "alphabetical value for each name, multiply this value by its alphabetical\n",
      "position in the list to obtain a name score.\n",
      "\n",
      "For example, when the list is sorted into alphabetical order, COLIN, which\n",
      "is worth 3 + 15 + 12 + 9 + 14 = 53, is the 938th name in the list. So,\n",
      "COLIN would obtain a score of 938 \u00d7 53 = 49714.\n",
      "\n",
      "What is the total of all the name scores in the file?"
     ]
    },
    {
     "cell_type": "code",
     "collapsed": false,
     "input": [
      "def wordValue(w):\n",
      "    return sum(ord(l) - 64 for l in w)"
     ],
     "language": "python",
     "metadata": {},
     "outputs": [],
     "prompt_number": 23
    },
    {
     "cell_type": "code",
     "collapsed": false,
     "input": [
      "with open('project_euler/names.txt') as f:\n",
      "    names = [l.strip() for l in f]\n",
      "names = sorted([n.replace('\"', '') for n in names[0].split(',')])"
     ],
     "language": "python",
     "metadata": {},
     "outputs": [],
     "prompt_number": 35
    },
    {
     "cell_type": "code",
     "collapsed": false,
     "input": [
      "values = [wordValue(n) for n in names]"
     ],
     "language": "python",
     "metadata": {},
     "outputs": [],
     "prompt_number": 36
    },
    {
     "cell_type": "code",
     "collapsed": false,
     "input": [
      "sum(i*v for i,v in enumerate(values, 1))"
     ],
     "language": "python",
     "metadata": {},
     "outputs": [
      {
       "metadata": {},
       "output_type": "pyout",
       "prompt_number": 37,
       "text": [
        "871198282"
       ]
      }
     ],
     "prompt_number": 37
    },
    {
     "cell_type": "code",
     "collapsed": false,
     "input": [],
     "language": "python",
     "metadata": {},
     "outputs": []
    }
   ],
   "metadata": {}
  }
 ]
}