{
 "metadata": {
  "name": "",
  "signature": "sha256:4f5812b7f14f44baf130fd42345762a388f44f8e38cb455e19d9365f0789f10b"
 },
 "nbformat": 3,
 "nbformat_minor": 0,
 "worksheets": [
  {
   "cells": [
    {
     "cell_type": "markdown",
     "metadata": {},
     "source": [
      "Starting in the top left corner of a 2\u00d72 grid, and only being able to move to the right and down, there are exactly 6 routes to the bottom right corner.\n",
      "\n",
      "<img src=https://projecteuler.net/project/images/p015.gif>\n",
      "\n",
      "How many such routes are there through a 20\u00d720 grid?"
     ]
    },
    {
     "cell_type": "markdown",
     "metadata": {},
     "source": [
      "two options at the start\n",
      " - right\n",
      "    - right\n",
      "       - down, down\n",
      "    - down\n",
      "       - right\n",
      "       - down\n",
      " - down:  \n",
      "...etc"
     ]
    },
    {
     "cell_type": "markdown",
     "metadata": {},
     "source": [
      "Ultimately, you need a list of four moves, 2 right and 2 down. In the case of a 20x20 grid, its 40 moves, 20 right and 20 down.\n",
      "\n",
      "You could also think of it as deciding where to put 20 1s in an array of length 40.\n",
      "\n",
      "Lets look at furthestmost 1\n",
      "1)  111....111000...000 (1)\n",
      "2)  111....11X100...000 (20) 20 C 1\n",
      "3)  111....11XX10...000 (There are two zeros in the first 21 slots) - 21 C 2\n",
      "4)  111....11XXX1...000 (There are three zeros in the first 22 slots) - 22 C 3\n",
      "...\n",
      "20) 111....11XXXX...XX1 (There are 20 zeros in the first 39 slots) - 39 C 20"
     ]
    },
    {
     "cell_type": "code",
     "collapsed": false,
     "input": [
      "import scipy.misc"
     ],
     "language": "python",
     "metadata": {},
     "outputs": [],
     "prompt_number": 4
    },
    {
     "cell_type": "code",
     "collapsed": false,
     "input": [
      "# for the 2x2 grid:\n",
      "# 1100\n",
      "# 1X10\n",
      "# 1XX1\n",
      "scipy.misc.comb(1, 0, True) + scipy.misc.comb(2, 1, True) + scipy.misc.comb(3, 2, True)"
     ],
     "language": "python",
     "metadata": {},
     "outputs": [
      {
       "metadata": {},
       "output_type": "pyout",
       "prompt_number": 14,
       "text": [
        "6"
       ]
      }
     ],
     "prompt_number": 14
    },
    {
     "cell_type": "code",
     "collapsed": false,
     "input": [
      "s = 0\n",
      "for i in range(21):\n",
      "    s += scipy.misc.comb(19+i, i, True)"
     ],
     "language": "python",
     "metadata": {},
     "outputs": [],
     "prompt_number": 24
    },
    {
     "cell_type": "code",
     "collapsed": false,
     "input": [
      "s"
     ],
     "language": "python",
     "metadata": {},
     "outputs": [
      {
       "metadata": {},
       "output_type": "pyout",
       "prompt_number": 25,
       "text": [
        "137846528820"
       ]
      }
     ],
     "prompt_number": 25
    },
    {
     "cell_type": "code",
     "collapsed": false,
     "input": [
      "# which is also\n",
      "scipy.misc.comb(40, 20, True)"
     ],
     "language": "python",
     "metadata": {},
     "outputs": [
      {
       "metadata": {},
       "output_type": "pyout",
       "prompt_number": 26,
       "text": [
        "137846528820"
       ]
      }
     ],
     "prompt_number": 26
    },
    {
     "cell_type": "code",
     "collapsed": false,
     "input": [],
     "language": "python",
     "metadata": {},
     "outputs": []
    }
   ],
   "metadata": {}
  }
 ]
}